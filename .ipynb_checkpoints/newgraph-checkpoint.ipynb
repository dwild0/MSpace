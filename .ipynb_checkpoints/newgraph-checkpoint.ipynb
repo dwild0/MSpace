{
 "cells": [
  {
   "cell_type": "markdown",
   "id": "069e9795",
   "metadata": {},
   "source": [
    "## Connecting to arangoDB server and filling it with data from makerspace\n",
    "\n",
    "### Step 1: importing libraries and connect to database "
   ]
  },
  {
   "cell_type": "code",
   "execution_count": 1,
   "id": "f1496f69",
   "metadata": {},
   "outputs": [],
   "source": [
    "import pandas as pd \n",
    "import math \n",
    "import matplotlib as plt \n",
    "from arango import ArangoClient"
   ]
  },
  {
   "cell_type": "code",
   "execution_count": 2,
   "id": "2a67c780",
   "metadata": {},
   "outputs": [],
   "source": [
    "client = ArangoClient(hosts=\"http://localhost:8529\")\n",
    "sys_db=client.db(\"_system\", username='root', password='client')\n"
   ]
  },
  {
   "cell_type": "code",
   "execution_count": 3,
   "id": "9e6e776d",
   "metadata": {},
   "outputs": [],
   "source": [
    "if not sys_db.has_database(\"seminar2\"):\n",
    "    sys_db.create_database(\"seminar2\")\n",
    "    "
   ]
  },
  {
   "cell_type": "code",
   "execution_count": 4,
   "id": "75c16d62",
   "metadata": {},
   "outputs": [],
   "source": [
    "db=client.db('seminar2', username=\"root\", password='client')\n",
    "graph=db.graph(\"makerspace\")"
   ]
  },
  {
   "cell_type": "code",
   "execution_count": null,
   "id": "a382ee32",
   "metadata": {},
   "outputs": [],
   "source": []
  }
 ],
 "metadata": {
  "kernelspec": {
   "display_name": "Python 3 (ipykernel)",
   "language": "python",
   "name": "python3"
  },
  "language_info": {
   "codemirror_mode": {
    "name": "ipython",
    "version": 3
   },
   "file_extension": ".py",
   "mimetype": "text/x-python",
   "name": "python",
   "nbconvert_exporter": "python",
   "pygments_lexer": "ipython3",
   "version": "3.9.12"
  }
 },
 "nbformat": 4,
 "nbformat_minor": 5
}
