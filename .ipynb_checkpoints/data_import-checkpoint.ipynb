{
 "cells": [
  {
   "cell_type": "code",
   "execution_count": 1,
   "id": "9e21e40a",
   "metadata": {},
   "outputs": [],
   "source": [
    "import pandas as pd\n",
    "import math \n",
    "from arango import ArangoClient\n",
    "import time \n",
    "from datetime import timedelta"
   ]
  },
  {
   "cell_type": "code",
   "execution_count": 2,
   "id": "f8acb739",
   "metadata": {},
   "outputs": [],
   "source": [
    "client = ArangoClient(hosts=\"http://localhost:8529\")\n",
    "sys_db = client.db(\"_system\", username=\"root\", password=\"client\")\n"
   ]
  },
  {
   "cell_type": "code",
   "execution_count": 3,
   "id": "e29fcfc4",
   "metadata": {},
   "outputs": [
    {
     "data": {
      "text/plain": [
       "True"
      ]
     },
     "execution_count": 3,
     "metadata": {},
     "output_type": "execute_result"
    }
   ],
   "source": [
    "sys_db.has_database(\"seminar2\")"
   ]
  },
  {
   "cell_type": "code",
   "execution_count": 4,
   "id": "7c4380bc",
   "metadata": {},
   "outputs": [],
   "source": [
    "db = client.db(\"seminar2\", username=\"root\", password=\"client\")"
   ]
  },
  {
   "cell_type": "markdown",
   "id": "4a1e2913",
   "metadata": {},
   "source": [
    "# Data import and datetime preparation \n",
    "\n",
    "Import data from .csv files and convert the timestamps from strings to datetime data type \n",
    "\n",
    "## Important note\n",
    "\n",
    "Converting the timestamps into datetime objects will produce an error inserting them into collection documents, because those documents are from .json type and by that time this programm does not support inserting datetime objects to the server. "
   ]
  },
  {
   "cell_type": "code",
   "execution_count": 5,
   "id": "00d04464",
   "metadata": {},
   "outputs": [],
   "source": [
    "waage_df = pd.read_csv(\"waage_df.csv\", index_col = 0)\n",
    "heiz_df = pd.read_csv(\"ir_temp_heiz_df.csv\", index_col=0)\n",
    "qual_df= pd.read_csv(\"ir_temp_qual_df.csv\", index_col=0)\n",
    "kamera_df = pd.read_csv(\"kamera_df.csv\", index_col=0)\n",
    "couple_df = pd.read_csv(\"thermo_couple_heiz_df.csv\", index_col=0)\n",
    "umgebung_df = pd.read_csv(\"umgebung_df.csv\", index_col=0)\n"
   ]
  },
  {
   "cell_type": "code",
   "execution_count": 6,
   "id": "b4d84440",
   "metadata": {},
   "outputs": [
    {
     "data": {
      "text/html": [
       "<div>\n",
       "<style scoped>\n",
       "    .dataframe tbody tr th:only-of-type {\n",
       "        vertical-align: middle;\n",
       "    }\n",
       "\n",
       "    .dataframe tbody tr th {\n",
       "        vertical-align: top;\n",
       "    }\n",
       "\n",
       "    .dataframe thead th {\n",
       "        text-align: right;\n",
       "    }\n",
       "</style>\n",
       "<table border=\"1\" class=\"dataframe\">\n",
       "  <thead>\n",
       "    <tr style=\"text-align: right;\">\n",
       "      <th></th>\n",
       "      <th>uuid</th>\n",
       "      <th>timestamp_qual_start</th>\n",
       "      <th>qual_weight</th>\n",
       "    </tr>\n",
       "  </thead>\n",
       "  <tbody>\n",
       "    <tr>\n",
       "      <th>0</th>\n",
       "      <td>54f145d2-e871-4bb9-8f9f-ee72e2ced9cd</td>\n",
       "      <td>2022-01-27 09:16:21.688684</td>\n",
       "      <td>304.0</td>\n",
       "    </tr>\n",
       "    <tr>\n",
       "      <th>1</th>\n",
       "      <td>a3ec2e1f-fa73-4c7c-9b2b-76c11e607ded</td>\n",
       "      <td>2022-01-27 09:17:59.504191</td>\n",
       "      <td>304.0</td>\n",
       "    </tr>\n",
       "    <tr>\n",
       "      <th>2</th>\n",
       "      <td>3fad8ca6-c3f5-4646-8d13-4d12c23bce4b</td>\n",
       "      <td>2022-01-27 09:20:07.455048</td>\n",
       "      <td>417.0</td>\n",
       "    </tr>\n",
       "    <tr>\n",
       "      <th>3</th>\n",
       "      <td>c047f085-5295-487c-983b-822973db31d8</td>\n",
       "      <td>2022-01-27 09:21:44.876556</td>\n",
       "      <td>271.0</td>\n",
       "    </tr>\n",
       "    <tr>\n",
       "      <th>4</th>\n",
       "      <td>d635cbe2-f5dc-4bc2-af97-b7dfb4f52dbc</td>\n",
       "      <td>2022-01-27 09:23:22.772306</td>\n",
       "      <td>536.0</td>\n",
       "    </tr>\n",
       "  </tbody>\n",
       "</table>\n",
       "</div>"
      ],
      "text/plain": [
       "                                   uuid        timestamp_qual_start  \\\n",
       "0  54f145d2-e871-4bb9-8f9f-ee72e2ced9cd  2022-01-27 09:16:21.688684   \n",
       "1  a3ec2e1f-fa73-4c7c-9b2b-76c11e607ded  2022-01-27 09:17:59.504191   \n",
       "2  3fad8ca6-c3f5-4646-8d13-4d12c23bce4b  2022-01-27 09:20:07.455048   \n",
       "3  c047f085-5295-487c-983b-822973db31d8  2022-01-27 09:21:44.876556   \n",
       "4  d635cbe2-f5dc-4bc2-af97-b7dfb4f52dbc  2022-01-27 09:23:22.772306   \n",
       "\n",
       "   qual_weight  \n",
       "0        304.0  \n",
       "1        304.0  \n",
       "2        417.0  \n",
       "3        271.0  \n",
       "4        536.0  "
      ]
     },
     "execution_count": 6,
     "metadata": {},
     "output_type": "execute_result"
    }
   ],
   "source": [
    "waage_df.head()"
   ]
  },
  {
   "cell_type": "markdown",
   "id": "fddc5988",
   "metadata": {},
   "source": [
    "# Send data to database\n",
    "\n",
    "### Generate collections for each data origin:\n",
    "    - ir_temp_heiz\n",
    "    - ir_temp_qual\n",
    "    - kamera\n",
    "    - thermo_couple_heiz\n",
    "    - umgebung\n",
    "    - waage"
   ]
  },
  {
   "cell_type": "code",
   "execution_count": null,
   "id": "f78ebf8b",
   "metadata": {},
   "outputs": [],
   "source": []
  },
  {
   "cell_type": "markdown",
   "id": "c4f6979c",
   "metadata": {},
   "source": [
    "## Testing"
   ]
  },
  {
   "cell_type": "code",
   "execution_count": null,
   "id": "e6a77f66",
   "metadata": {},
   "outputs": [],
   "source": [
    "waage_df.iloc[0,1]"
   ]
  },
  {
   "cell_type": "code",
   "execution_count": null,
   "id": "0d8f216d",
   "metadata": {},
   "outputs": [],
   "source": [
    "type(heiz_df.iloc[0,1])"
   ]
  },
  {
   "cell_type": "code",
   "execution_count": null,
   "id": "15b6931d",
   "metadata": {},
   "outputs": [],
   "source": [
    "waage_df.iloc[0,1]-heiz_df.iloc[0,1]"
   ]
  },
  {
   "cell_type": "code",
   "execution_count": null,
   "id": "5f123022",
   "metadata": {},
   "outputs": [],
   "source": [
    "umgebung_df.iloc[0,0]"
   ]
  },
  {
   "cell_type": "code",
   "execution_count": 23,
   "id": "20869a77",
   "metadata": {},
   "outputs": [
    {
     "data": {
      "text/plain": [
       "304.0"
      ]
     },
     "execution_count": 23,
     "metadata": {},
     "output_type": "execute_result"
    }
   ],
   "source": [
    "waage_df.loc[0, \"qual_weight\"]"
   ]
  },
  {
   "cell_type": "code",
   "execution_count": 27,
   "id": "6f2fbe9a",
   "metadata": {},
   "outputs": [
    {
     "name": "stdout",
     "output_type": "stream",
     "text": [
      "Collection already exists. Would you like to delete it and create an empty one?\n",
      "y/n:y\n",
      "collection created from scratch\n",
      "y\n",
      "check 1\n",
      "check: passed coll assignment\n",
      "for check 1\n"
     ]
    },
    {
     "ename": "KeyError",
     "evalue": "'uuid'",
     "output_type": "error",
     "traceback": [
      "\u001b[0;31m---------------------------------------------------------------------------\u001b[0m",
      "\u001b[0;31mKeyError\u001b[0m                                  Traceback (most recent call last)",
      "File \u001b[0;32m~/opt/anaconda3/envs/arango/lib/python3.9/site-packages/pandas/core/indexes/base.py:3621\u001b[0m, in \u001b[0;36mIndex.get_loc\u001b[0;34m(self, key, method, tolerance)\u001b[0m\n\u001b[1;32m   3620\u001b[0m \u001b[38;5;28;01mtry\u001b[39;00m:\n\u001b[0;32m-> 3621\u001b[0m     \u001b[38;5;28;01mreturn\u001b[39;00m \u001b[38;5;28;43mself\u001b[39;49m\u001b[38;5;241;43m.\u001b[39;49m\u001b[43m_engine\u001b[49m\u001b[38;5;241;43m.\u001b[39;49m\u001b[43mget_loc\u001b[49m\u001b[43m(\u001b[49m\u001b[43mcasted_key\u001b[49m\u001b[43m)\u001b[49m\n\u001b[1;32m   3622\u001b[0m \u001b[38;5;28;01mexcept\u001b[39;00m \u001b[38;5;167;01mKeyError\u001b[39;00m \u001b[38;5;28;01mas\u001b[39;00m err:\n",
      "File \u001b[0;32m~/opt/anaconda3/envs/arango/lib/python3.9/site-packages/pandas/_libs/index.pyx:136\u001b[0m, in \u001b[0;36mpandas._libs.index.IndexEngine.get_loc\u001b[0;34m()\u001b[0m\n",
      "File \u001b[0;32m~/opt/anaconda3/envs/arango/lib/python3.9/site-packages/pandas/_libs/index.pyx:144\u001b[0m, in \u001b[0;36mpandas._libs.index.IndexEngine.get_loc\u001b[0;34m()\u001b[0m\n",
      "File \u001b[0;32mpandas/_libs/index_class_helper.pxi:41\u001b[0m, in \u001b[0;36mpandas._libs.index.Int64Engine._check_type\u001b[0;34m()\u001b[0m\n",
      "\u001b[0;31mKeyError\u001b[0m: 'uuid'",
      "\nThe above exception was the direct cause of the following exception:\n",
      "\u001b[0;31mKeyError\u001b[0m                                  Traceback (most recent call last)",
      "Input \u001b[0;32mIn [27]\u001b[0m, in \u001b[0;36m<cell line: 1>\u001b[0;34m()\u001b[0m\n\u001b[0;32m----> 1\u001b[0m \u001b[43mcreate_coll_from_df\u001b[49m\u001b[43m(\u001b[49m\u001b[43mheiz_df\u001b[49m\u001b[43m,\u001b[49m\u001b[43m \u001b[49m\u001b[38;5;124;43m\"\u001b[39;49m\u001b[38;5;124;43mheiz\u001b[39;49m\u001b[38;5;124;43m\"\u001b[39;49m\u001b[43m)\u001b[49m\n",
      "Input \u001b[0;32mIn [26]\u001b[0m, in \u001b[0;36mcreate_coll_from_df\u001b[0;34m(df, name_string)\u001b[0m\n\u001b[1;32m     14\u001b[0m \u001b[38;5;28;01mfor\u001b[39;00m i \u001b[38;5;129;01min\u001b[39;00m df: \n\u001b[1;32m     15\u001b[0m     \u001b[38;5;28mprint\u001b[39m(\u001b[38;5;124m\"\u001b[39m\u001b[38;5;124mfor check 1\u001b[39m\u001b[38;5;124m\"\u001b[39m)\n\u001b[0;32m---> 16\u001b[0m     heiz_col\u001b[38;5;241m.\u001b[39minsert(\u001b[43mget_object\u001b[49m\u001b[43m(\u001b[49m\u001b[43mdf\u001b[49m\u001b[43m,\u001b[49m\u001b[43m \u001b[49m\u001b[43mi\u001b[49m\u001b[43m,\u001b[49m\u001b[43m \u001b[49m\u001b[43mname_string\u001b[49m\u001b[43m)\u001b[49m)  \n\u001b[1;32m     17\u001b[0m     \u001b[38;5;28mprint\u001b[39m(\u001b[38;5;124m\"\u001b[39m\u001b[38;5;124mfor check 2\u001b[39m\u001b[38;5;124m\"\u001b[39m)\n\u001b[1;32m     18\u001b[0m \u001b[38;5;28;01mreturn\u001b[39;00m \u001b[38;5;124m\"\u001b[39m\u001b[38;5;124mworked\u001b[39m\u001b[38;5;124m\"\u001b[39m\n",
      "Input \u001b[0;32mIn [9]\u001b[0m, in \u001b[0;36mget_object\u001b[0;34m(df, row, collection_name)\u001b[0m\n\u001b[1;32m      4\u001b[0m obj \u001b[38;5;241m=\u001b[39m {\u001b[38;5;124m\"\u001b[39m\u001b[38;5;124m_key\u001b[39m\u001b[38;5;124m\"\u001b[39m: key_string}\n\u001b[1;32m      5\u001b[0m \u001b[38;5;28;01mfor\u001b[39;00m i \u001b[38;5;129;01min\u001b[39;00m df\u001b[38;5;241m.\u001b[39mcolumns: \n\u001b[0;32m----> 6\u001b[0m     obj[i] \u001b[38;5;241m=\u001b[39m \u001b[43mdf\u001b[49m\u001b[38;5;241;43m.\u001b[39;49m\u001b[43mloc\u001b[49m\u001b[43m[\u001b[49m\u001b[43mrow\u001b[49m\u001b[43m,\u001b[49m\u001b[43m \u001b[49m\u001b[43mi\u001b[49m\u001b[43m]\u001b[49m\n\u001b[1;32m      7\u001b[0m \u001b[38;5;28;01mreturn\u001b[39;00m obj\n",
      "File \u001b[0;32m~/opt/anaconda3/envs/arango/lib/python3.9/site-packages/pandas/core/indexing.py:960\u001b[0m, in \u001b[0;36m_LocationIndexer.__getitem__\u001b[0;34m(self, key)\u001b[0m\n\u001b[1;32m    958\u001b[0m     key \u001b[38;5;241m=\u001b[39m \u001b[38;5;28mtuple\u001b[39m(com\u001b[38;5;241m.\u001b[39mapply_if_callable(x, \u001b[38;5;28mself\u001b[39m\u001b[38;5;241m.\u001b[39mobj) \u001b[38;5;28;01mfor\u001b[39;00m x \u001b[38;5;129;01min\u001b[39;00m key)\n\u001b[1;32m    959\u001b[0m     \u001b[38;5;28;01mif\u001b[39;00m \u001b[38;5;28mself\u001b[39m\u001b[38;5;241m.\u001b[39m_is_scalar_access(key):\n\u001b[0;32m--> 960\u001b[0m         \u001b[38;5;28;01mreturn\u001b[39;00m \u001b[38;5;28;43mself\u001b[39;49m\u001b[38;5;241;43m.\u001b[39;49m\u001b[43mobj\u001b[49m\u001b[38;5;241;43m.\u001b[39;49m\u001b[43m_get_value\u001b[49m\u001b[43m(\u001b[49m\u001b[38;5;241;43m*\u001b[39;49m\u001b[43mkey\u001b[49m\u001b[43m,\u001b[49m\u001b[43m \u001b[49m\u001b[43mtakeable\u001b[49m\u001b[38;5;241;43m=\u001b[39;49m\u001b[38;5;28;43mself\u001b[39;49m\u001b[38;5;241;43m.\u001b[39;49m\u001b[43m_takeable\u001b[49m\u001b[43m)\u001b[49m\n\u001b[1;32m    961\u001b[0m     \u001b[38;5;28;01mreturn\u001b[39;00m \u001b[38;5;28mself\u001b[39m\u001b[38;5;241m.\u001b[39m_getitem_tuple(key)\n\u001b[1;32m    962\u001b[0m \u001b[38;5;28;01melse\u001b[39;00m:\n\u001b[1;32m    963\u001b[0m     \u001b[38;5;66;03m# we by definition only have the 0th axis\u001b[39;00m\n",
      "File \u001b[0;32m~/opt/anaconda3/envs/arango/lib/python3.9/site-packages/pandas/core/frame.py:3622\u001b[0m, in \u001b[0;36mDataFrame._get_value\u001b[0;34m(self, index, col, takeable)\u001b[0m\n\u001b[1;32m   3616\u001b[0m engine \u001b[38;5;241m=\u001b[39m \u001b[38;5;28mself\u001b[39m\u001b[38;5;241m.\u001b[39mindex\u001b[38;5;241m.\u001b[39m_engine\n\u001b[1;32m   3618\u001b[0m \u001b[38;5;28;01mif\u001b[39;00m \u001b[38;5;129;01mnot\u001b[39;00m \u001b[38;5;28misinstance\u001b[39m(\u001b[38;5;28mself\u001b[39m\u001b[38;5;241m.\u001b[39mindex, MultiIndex):\n\u001b[1;32m   3619\u001b[0m     \u001b[38;5;66;03m# CategoricalIndex: Trying to use the engine fastpath may give incorrect\u001b[39;00m\n\u001b[1;32m   3620\u001b[0m     \u001b[38;5;66;03m#  results if our categories are integers that dont match our codes\u001b[39;00m\n\u001b[1;32m   3621\u001b[0m     \u001b[38;5;66;03m# IntervalIndex: IntervalTree has no get_loc\u001b[39;00m\n\u001b[0;32m-> 3622\u001b[0m     row \u001b[38;5;241m=\u001b[39m \u001b[38;5;28;43mself\u001b[39;49m\u001b[38;5;241;43m.\u001b[39;49m\u001b[43mindex\u001b[49m\u001b[38;5;241;43m.\u001b[39;49m\u001b[43mget_loc\u001b[49m\u001b[43m(\u001b[49m\u001b[43mindex\u001b[49m\u001b[43m)\u001b[49m\n\u001b[1;32m   3623\u001b[0m     \u001b[38;5;28;01mreturn\u001b[39;00m series\u001b[38;5;241m.\u001b[39m_values[row]\n\u001b[1;32m   3625\u001b[0m \u001b[38;5;66;03m# For MultiIndex going through engine effectively restricts us to\u001b[39;00m\n\u001b[1;32m   3626\u001b[0m \u001b[38;5;66;03m#  same-length tuples; see test_get_set_value_no_partial_indexing\u001b[39;00m\n",
      "File \u001b[0;32m~/opt/anaconda3/envs/arango/lib/python3.9/site-packages/pandas/core/indexes/base.py:3623\u001b[0m, in \u001b[0;36mIndex.get_loc\u001b[0;34m(self, key, method, tolerance)\u001b[0m\n\u001b[1;32m   3621\u001b[0m     \u001b[38;5;28;01mreturn\u001b[39;00m \u001b[38;5;28mself\u001b[39m\u001b[38;5;241m.\u001b[39m_engine\u001b[38;5;241m.\u001b[39mget_loc(casted_key)\n\u001b[1;32m   3622\u001b[0m \u001b[38;5;28;01mexcept\u001b[39;00m \u001b[38;5;167;01mKeyError\u001b[39;00m \u001b[38;5;28;01mas\u001b[39;00m err:\n\u001b[0;32m-> 3623\u001b[0m     \u001b[38;5;28;01mraise\u001b[39;00m \u001b[38;5;167;01mKeyError\u001b[39;00m(key) \u001b[38;5;28;01mfrom\u001b[39;00m \u001b[38;5;21;01merr\u001b[39;00m\n\u001b[1;32m   3624\u001b[0m \u001b[38;5;28;01mexcept\u001b[39;00m \u001b[38;5;167;01mTypeError\u001b[39;00m:\n\u001b[1;32m   3625\u001b[0m     \u001b[38;5;66;03m# If we have a listlike key, _check_indexing_error will raise\u001b[39;00m\n\u001b[1;32m   3626\u001b[0m     \u001b[38;5;66;03m#  InvalidIndexError. Otherwise we fall through and re-raise\u001b[39;00m\n\u001b[1;32m   3627\u001b[0m     \u001b[38;5;66;03m#  the TypeError.\u001b[39;00m\n\u001b[1;32m   3628\u001b[0m     \u001b[38;5;28mself\u001b[39m\u001b[38;5;241m.\u001b[39m_check_indexing_error(key)\n",
      "\u001b[0;31mKeyError\u001b[0m: 'uuid'"
     ]
    }
   ],
   "source": [
    "create_coll_from_df(heiz_df, \"heiz\")"
   ]
  },
  {
   "cell_type": "markdown",
   "id": "f78dec29",
   "metadata": {},
   "source": [
    "# Functions and error messages\n",
    "\n",
    "## Function 1\n",
    "Accept (dataframe, name_string) to create a collection with name _name_string_ and creates a document for each row in the dataframe"
   ]
  },
  {
   "cell_type": "code",
   "execution_count": 26,
   "id": "abe67b56",
   "metadata": {},
   "outputs": [],
   "source": [
    "def create_coll_from_df(df, name_string): \n",
    "    if db.has_collection(name_string): \n",
    "        print(\"Collection already exists. Would you like to delete it and create an empty one?\")\n",
    "        if input(\"y/n:\")==\"y\":\n",
    "            db.delete_collection(name_string)\n",
    "            db.create_collection(name_string)\n",
    "            print(\"collection created from scratch\")\n",
    "            print(\"y\")\n",
    "        else:\n",
    "            return err_existing_col\n",
    "    print(\"check 1\")\n",
    "    col = db.collection(name_string)\n",
    "    print(\"check: passed coll assignment\")\n",
    "    for i in df:\n",
    "        print(\"for check 1\")\n",
    "        col.insert(get_object(df, i, name_string))  \n",
    "        print(\"for check 2\")\n",
    "    return \"worked\""
   ]
  },
  {
   "cell_type": "code",
   "execution_count": 15,
   "id": "b4fba566",
   "metadata": {},
   "outputs": [
    {
     "data": {
      "text/plain": [
       "{'_id': 'heiz/HM1', '_key': 'HM1', '_rev': '_eoFgaX6---'}"
      ]
     },
     "execution_count": 15,
     "metadata": {},
     "output_type": "execute_result"
    }
   ],
   "source": [
    "heiz_col = db.collection(\"heiz\")\n",
    "heiz_col.insert(get_object(heiz_df, 1, \"Heiz\"))"
   ]
  },
  {
   "cell_type": "code",
   "execution_count": 13,
   "id": "291107d7",
   "metadata": {},
   "outputs": [
    {
     "data": {
      "text/plain": [
       "{'_key': 'HM0',\n",
       " 'uuid': '54f145d2-e871-4bb9-8f9f-ee72e2ced9cd',\n",
       " 'timestamp_prod_start': '2022-01-27 09:16:01.750997',\n",
       " 'timestamp_start': '2022-01-27 09:15:54.499085',\n",
       " 'prod_obj_temp': 18.4,\n",
       " 'prod_amb_temp': 19.8,\n",
       " 'timestamp_prod_end': '2022-01-27 09:16:11.800704',\n",
       " 'timestamp_end': '2022-01-27 09:16:57.162335',\n",
       " 'start_date': '2022-01-27',\n",
       " 'end_date': '2022-01-27'}"
      ]
     },
     "execution_count": 13,
     "metadata": {},
     "output_type": "execute_result"
    }
   ],
   "source": [
    "get_object(heiz_df, 0, \"Heiz\")\n"
   ]
  },
  {
   "cell_type": "markdown",
   "id": "35a03e72",
   "metadata": {},
   "source": [
    "## Function 2\n",
    "Create the object {...} thats passed to the collection.insert() function. This is necessary because of the different dimensions of the objects generated in collections. For example a document in the _heiz_ collection will have 9 entries, whereas the _waage_ collection documents will have 3 entries. (_key attributes not included) "
   ]
  },
  {
   "cell_type": "code",
   "execution_count": 9,
   "id": "8c529163",
   "metadata": {},
   "outputs": [],
   "source": [
    "def get_object (df, row, collection_name): \n",
    "    col_count = len(df.columns)\n",
    "    key_string = collection_name[0] + \"M\" + str(row)\n",
    "    obj = {\"_key\": key_string}\n",
    "    for i in df.columns: \n",
    "        obj[i] = df.loc[row, i]\n",
    "    return obj"
   ]
  },
  {
   "cell_type": "markdown",
   "id": "1090a4e0",
   "metadata": {},
   "source": [
    "## Error messages"
   ]
  },
  {
   "cell_type": "code",
   "execution_count": null,
   "id": "2136eeb0",
   "metadata": {},
   "outputs": [],
   "source": [
    "err_existing_col = \"Error creating collection, collection already exists\""
   ]
  },
  {
   "cell_type": "code",
   "execution_count": null,
   "id": "bc5a9e8b",
   "metadata": {},
   "outputs": [],
   "source": []
  }
 ],
 "metadata": {
  "kernelspec": {
   "display_name": "Python 3 (ipykernel)",
   "language": "python",
   "name": "python3"
  },
  "language_info": {
   "codemirror_mode": {
    "name": "ipython",
    "version": 3
   },
   "file_extension": ".py",
   "mimetype": "text/x-python",
   "name": "python",
   "nbconvert_exporter": "python",
   "pygments_lexer": "ipython3",
   "version": "3.9.12"
  }
 },
 "nbformat": 4,
 "nbformat_minor": 5
}
