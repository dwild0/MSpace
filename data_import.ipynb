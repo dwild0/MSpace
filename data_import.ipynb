{
 "cells": [
  {
   "cell_type": "code",
   "execution_count": 1,
   "id": "d9b57c50",
   "metadata": {},
   "outputs": [],
   "source": [
    "import pandas as pd\n",
    "import math \n",
    "from arango import ArangoClient\n",
    "import time \n",
    "from datetime import timedelta"
   ]
  },
  {
   "cell_type": "code",
   "execution_count": 2,
   "id": "e9efc73a",
   "metadata": {},
   "outputs": [],
   "source": [
    "client = ArangoClient(hosts=\"http://localhost:8529\")\n",
    "sys_db = client.db(\"_system\", username=\"root\", password=\"client\")\n"
   ]
  },
  {
   "cell_type": "code",
   "execution_count": 3,
   "id": "3f8bf6e8",
   "metadata": {},
   "outputs": [
    {
     "data": {
      "text/plain": [
       "True"
      ]
     },
     "execution_count": 3,
     "metadata": {},
     "output_type": "execute_result"
    }
   ],
   "source": [
    "sys_db.has_database(\"seminar2\")"
   ]
  },
  {
   "cell_type": "code",
   "execution_count": 4,
   "id": "e7da98dc",
   "metadata": {},
   "outputs": [],
   "source": [
    "db = client.db(\"seminar2\", username=\"root\", password=\"client\")"
   ]
  },
  {
   "cell_type": "markdown",
   "id": "fa9aaf09",
   "metadata": {},
   "source": [
    "# Data import and datetime preparation \n",
    "\n",
    "Import data from .csv files and convert the timestamps from strings to datetime data type \n",
    "\n",
    "## Important note\n",
    "\n",
    "Converting the timestamps into datetime objects will produce an error inserting them into collection documents, because those documents are from .json type and by that time this programm does not support inserting datetime objects to the server. "
   ]
  },
  {
   "cell_type": "code",
   "execution_count": 5,
   "id": "e3671c77",
   "metadata": {},
   "outputs": [],
   "source": [
    "waage_df = pd.read_csv(\"waage_df.csv\", index_col = 0)\n",
    "heiz_df = pd.read_csv(\"ir_temp_heiz_df.csv\", index_col=0)\n",
    "qual_df= pd.read_csv(\"ir_temp_qual_df.csv\", index_col=0)\n",
    "kamera_df = pd.read_csv(\"kamera_df.csv\", index_col=0)\n",
    "couple_df = pd.read_csv(\"thermo_couple_heiz_df.csv\", index_col=0)\n",
    "umgebung_df = pd.read_csv(\"umgebung_df.csv\", index_col=0)\n"
   ]
  },
  {
   "cell_type": "code",
   "execution_count": 59,
   "id": "648a6096",
   "metadata": {},
   "outputs": [],
   "source": [
    "umgebung_df[\"env_iaq_index\"]=umgebung_df[\"env_iaq_index\"].astype(float)"
   ]
  },
  {
   "cell_type": "code",
   "execution_count": 60,
   "id": "b765f532",
   "metadata": {},
   "outputs": [
    {
     "data": {
      "text/html": [
       "<div>\n",
       "<style scoped>\n",
       "    .dataframe tbody tr th:only-of-type {\n",
       "        vertical-align: middle;\n",
       "    }\n",
       "\n",
       "    .dataframe tbody tr th {\n",
       "        vertical-align: top;\n",
       "    }\n",
       "\n",
       "    .dataframe thead th {\n",
       "        text-align: right;\n",
       "    }\n",
       "</style>\n",
       "<table border=\"1\" class=\"dataframe\">\n",
       "  <thead>\n",
       "    <tr style=\"text-align: right;\">\n",
       "      <th></th>\n",
       "      <th>uuid</th>\n",
       "      <th>timestamp_start</th>\n",
       "      <th>env_temperature</th>\n",
       "      <th>env_humidity</th>\n",
       "      <th>env_iaq_index</th>\n",
       "      <th>env_pressure</th>\n",
       "    </tr>\n",
       "  </thead>\n",
       "  <tbody>\n",
       "    <tr>\n",
       "      <th>0</th>\n",
       "      <td>54f145d2-e871-4bb9-8f9f-ee72e2ced9cd</td>\n",
       "      <td>2022-01-27 09:15:54.499085</td>\n",
       "      <td>20.89</td>\n",
       "      <td>28.28</td>\n",
       "      <td>92.0</td>\n",
       "      <td>1006.69</td>\n",
       "    </tr>\n",
       "    <tr>\n",
       "      <th>1</th>\n",
       "      <td>a3ec2e1f-fa73-4c7c-9b2b-76c11e607ded</td>\n",
       "      <td>2022-01-27 09:17:32.314592</td>\n",
       "      <td>20.92</td>\n",
       "      <td>28.28</td>\n",
       "      <td>92.0</td>\n",
       "      <td>1006.72</td>\n",
       "    </tr>\n",
       "    <tr>\n",
       "      <th>2</th>\n",
       "      <td>3fad8ca6-c3f5-4646-8d13-4d12c23bce4b</td>\n",
       "      <td>2022-01-27 09:19:40.265449</td>\n",
       "      <td>20.95</td>\n",
       "      <td>28.12</td>\n",
       "      <td>89.0</td>\n",
       "      <td>1006.71</td>\n",
       "    </tr>\n",
       "    <tr>\n",
       "      <th>3</th>\n",
       "      <td>c047f085-5295-487c-983b-822973db31d8</td>\n",
       "      <td>2022-01-27 09:21:17.686957</td>\n",
       "      <td>20.96</td>\n",
       "      <td>28.13</td>\n",
       "      <td>88.0</td>\n",
       "      <td>1006.71</td>\n",
       "    </tr>\n",
       "    <tr>\n",
       "      <th>4</th>\n",
       "      <td>d635cbe2-f5dc-4bc2-af97-b7dfb4f52dbc</td>\n",
       "      <td>2022-01-27 09:22:55.582707</td>\n",
       "      <td>21.00</td>\n",
       "      <td>28.08</td>\n",
       "      <td>88.0</td>\n",
       "      <td>1006.69</td>\n",
       "    </tr>\n",
       "  </tbody>\n",
       "</table>\n",
       "</div>"
      ],
      "text/plain": [
       "                                   uuid             timestamp_start  \\\n",
       "0  54f145d2-e871-4bb9-8f9f-ee72e2ced9cd  2022-01-27 09:15:54.499085   \n",
       "1  a3ec2e1f-fa73-4c7c-9b2b-76c11e607ded  2022-01-27 09:17:32.314592   \n",
       "2  3fad8ca6-c3f5-4646-8d13-4d12c23bce4b  2022-01-27 09:19:40.265449   \n",
       "3  c047f085-5295-487c-983b-822973db31d8  2022-01-27 09:21:17.686957   \n",
       "4  d635cbe2-f5dc-4bc2-af97-b7dfb4f52dbc  2022-01-27 09:22:55.582707   \n",
       "\n",
       "   env_temperature  env_humidity  env_iaq_index  env_pressure  \n",
       "0            20.89         28.28           92.0       1006.69  \n",
       "1            20.92         28.28           92.0       1006.72  \n",
       "2            20.95         28.12           89.0       1006.71  \n",
       "3            20.96         28.13           88.0       1006.71  \n",
       "4            21.00         28.08           88.0       1006.69  "
      ]
     },
     "execution_count": 60,
     "metadata": {},
     "output_type": "execute_result"
    }
   ],
   "source": [
    "umgebung_df.head()"
   ]
  },
  {
   "cell_type": "code",
   "execution_count": 57,
   "id": "f17c0fa8",
   "metadata": {},
   "outputs": [
    {
     "name": "stdout",
     "output_type": "stream",
     "text": [
      "<class 'str'>\n",
      "<class 'str'>\n",
      "<class 'numpy.float64'>\n",
      "<class 'numpy.float64'>\n",
      "<class 'numpy.int64'>\n",
      "<class 'numpy.float64'>\n"
     ]
    }
   ],
   "source": [
    "for i in umgebung_df:\n",
    "    print(type(umgebung_df.loc[0,i]))"
   ]
  },
  {
   "cell_type": "markdown",
   "id": "c1593c04",
   "metadata": {},
   "source": [
    "# Send data to database\n",
    "\n",
    "### Generate collections for each data origin:\n",
    "    - ir_temp_heiz\n",
    "    - ir_temp_qual\n",
    "    - kamera\n",
    "    - thermo_couple_heiz\n",
    "    - umgebung\n",
    "    - waage"
   ]
  },
  {
   "cell_type": "code",
   "execution_count": null,
   "id": "47d46c9e",
   "metadata": {},
   "outputs": [],
   "source": []
  },
  {
   "cell_type": "markdown",
   "id": "e93c46b8",
   "metadata": {},
   "source": [
    "## Testing"
   ]
  },
  {
   "cell_type": "code",
   "execution_count": null,
   "id": "7873a3a8",
   "metadata": {},
   "outputs": [],
   "source": [
    "waage_df.iloc[0,1]"
   ]
  },
  {
   "cell_type": "code",
   "execution_count": null,
   "id": "cbfd93d3",
   "metadata": {},
   "outputs": [],
   "source": [
    "type(heiz_df.iloc[0,1])"
   ]
  },
  {
   "cell_type": "code",
   "execution_count": null,
   "id": "7cb409df",
   "metadata": {},
   "outputs": [],
   "source": [
    "waage_df.iloc[0,1]-heiz_df.iloc[0,1]"
   ]
  },
  {
   "cell_type": "code",
   "execution_count": null,
   "id": "500b16bb",
   "metadata": {},
   "outputs": [],
   "source": [
    "umgebung_df.iloc[0,0]"
   ]
  },
  {
   "cell_type": "code",
   "execution_count": 33,
   "id": "e5b0c92d",
   "metadata": {},
   "outputs": [
    {
     "data": {
      "text/plain": [
       "'54f145d2-e871-4bb9-8f9f-ee72e2ced9cd'"
      ]
     },
     "execution_count": 33,
     "metadata": {},
     "output_type": "execute_result"
    }
   ],
   "source": [
    "waage_df.loc[0, \"uuid\"]"
   ]
  },
  {
   "cell_type": "code",
   "execution_count": 37,
   "id": "6aaa849f",
   "metadata": {},
   "outputs": [
    {
     "data": {
      "text/plain": [
       "{'_key': 'WM2',\n",
       " 'uuid': '3fad8ca6-c3f5-4646-8d13-4d12c23bce4b',\n",
       " 'timestamp_qual_start': '2022-01-27 09:20:07.455048',\n",
       " 'qual_weight': 417.0}"
      ]
     },
     "execution_count": 37,
     "metadata": {},
     "output_type": "execute_result"
    }
   ],
   "source": [
    "get_object(waage_df, 2, \"Waage\")"
   ]
  },
  {
   "cell_type": "code",
   "execution_count": 51,
   "id": "fdab74e5",
   "metadata": {},
   "outputs": [],
   "source": [
    "#create_coll_from_df(waage_df, \"waage\")"
   ]
  },
  {
   "cell_type": "markdown",
   "id": "4d4d0e63",
   "metadata": {},
   "source": [
    "# Functions and error messages\n",
    "\n",
    "## Function 1\n",
    "Accept (dataframe, name_string) to create a collection with name _name_string_ and creates a document for each row in the dataframe"
   ]
  },
  {
   "cell_type": "code",
   "execution_count": 49,
   "id": "029d113f",
   "metadata": {},
   "outputs": [],
   "source": [
    "def create_coll_from_df(df, name_string): \n",
    "    if db.has_collection(name_string): \n",
    "        print(\"Collection already exists. Would you like to delete it and create an empty one?\")\n",
    "        if input(\"y/n:\")==\"y\":\n",
    "            db.delete_collection(name_string)\n",
    "            db.create_collection(name_string)\n",
    "            print(\"collection created from scratch\")\n",
    "            print(\"y\")\n",
    "        else:\n",
    "            return err_existing_col\n",
    "    print(\"check 1\")\n",
    "    col = db.collection(name_string)\n",
    "    print(\"check: passed coll assignment\")\n",
    "    for i in df.index:\n",
    "        print(\"for check 1\")\n",
    "        #print(\"i:\"+ i)\n",
    "        col.insert(get_object(df, i, name_string))  \n",
    "        print(\"for check 2\")\n",
    "    return \"worked\""
   ]
  },
  {
   "cell_type": "code",
   "execution_count": 48,
   "id": "2131c34e",
   "metadata": {},
   "outputs": [],
   "source": [
    "col = db.collection(\"heiz\")\n",
    "#for i in heiz_df.index: \n",
    "#    print(i)"
   ]
  },
  {
   "cell_type": "code",
   "execution_count": 15,
   "id": "ebb5fd3f",
   "metadata": {},
   "outputs": [
    {
     "data": {
      "text/plain": [
       "{'_id': 'heiz/HM1', '_key': 'HM1', '_rev': '_eoFgaX6---'}"
      ]
     },
     "execution_count": 15,
     "metadata": {},
     "output_type": "execute_result"
    }
   ],
   "source": [
    "heiz_col = db.collection(\"heiz\")\n",
    "heiz_col.insert(get_object(heiz_df, 1, \"Heiz\"))"
   ]
  },
  {
   "cell_type": "code",
   "execution_count": 13,
   "id": "ff01919e",
   "metadata": {},
   "outputs": [
    {
     "data": {
      "text/plain": [
       "{'_key': 'HM0',\n",
       " 'uuid': '54f145d2-e871-4bb9-8f9f-ee72e2ced9cd',\n",
       " 'timestamp_prod_start': '2022-01-27 09:16:01.750997',\n",
       " 'timestamp_start': '2022-01-27 09:15:54.499085',\n",
       " 'prod_obj_temp': 18.4,\n",
       " 'prod_amb_temp': 19.8,\n",
       " 'timestamp_prod_end': '2022-01-27 09:16:11.800704',\n",
       " 'timestamp_end': '2022-01-27 09:16:57.162335',\n",
       " 'start_date': '2022-01-27',\n",
       " 'end_date': '2022-01-27'}"
      ]
     },
     "execution_count": 13,
     "metadata": {},
     "output_type": "execute_result"
    }
   ],
   "source": [
    "get_object(heiz_df, 0, \"Heiz\")\n"
   ]
  },
  {
   "cell_type": "markdown",
   "id": "e6692b32",
   "metadata": {},
   "source": [
    "## Function 2\n",
    "Create the object {...} thats passed to the collection.insert() function. This is necessary because of the different dimensions of the objects generated in collections. For example a document in the _heiz_ collection will have 9 entries, whereas the _waage_ collection documents will have 3 entries. (_key attributes not included) "
   ]
  },
  {
   "cell_type": "code",
   "execution_count": 40,
   "id": "c875fdb2",
   "metadata": {},
   "outputs": [],
   "source": [
    "def get_object (df, row, collection_name): \n",
    "    col_count = len(df.columns)\n",
    "    key_string = collection_name[0] + \"M\" + str(row)\n",
    "    obj = {\"_key\": key_string}\n",
    "    for j in df.columns: \n",
    "        obj[j] = df.loc[row, j]\n",
    "    return obj"
   ]
  },
  {
   "cell_type": "markdown",
   "id": "22395764",
   "metadata": {},
   "source": [
    "## Error messages"
   ]
  },
  {
   "cell_type": "code",
   "execution_count": null,
   "id": "d8b60423",
   "metadata": {},
   "outputs": [],
   "source": [
    "err_existing_col = \"Error creating collection, collection already exists\""
   ]
  },
  {
   "cell_type": "code",
   "execution_count": null,
   "id": "af1de0d4",
   "metadata": {},
   "outputs": [],
   "source": []
  }
 ],
 "metadata": {
  "kernelspec": {
   "display_name": "Python 3 (ipykernel)",
   "language": "python",
   "name": "python3"
  },
  "language_info": {
   "codemirror_mode": {
    "name": "ipython",
    "version": 3
   },
   "file_extension": ".py",
   "mimetype": "text/x-python",
   "name": "python",
   "nbconvert_exporter": "python",
   "pygments_lexer": "ipython3",
   "version": "3.9.12"
  }
 },
 "nbformat": 4,
 "nbformat_minor": 5
}
