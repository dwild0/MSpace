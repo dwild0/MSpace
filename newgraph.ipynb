{
 "cells": [
  {
   "cell_type": "markdown",
   "id": "3689b452",
   "metadata": {},
   "source": [
    "## Connecting to arangoDB server and filling it with data from makerspace\n",
    "\n",
    "### Step 1: importing libraries and connect to database "
   ]
  },
  {
   "cell_type": "code",
   "execution_count": 2,
   "id": "13ba4690",
   "metadata": {},
   "outputs": [],
   "source": [
    "import pandas as pd \n",
    "import math \n",
    "import matplotlib as plt \n",
    "from arango import ArangoClient"
   ]
  },
  {
   "cell_type": "code",
   "execution_count": 2,
   "id": "ddf51709",
   "metadata": {},
   "outputs": [],
   "source": [
    "client = ArangoClient(hosts=\"http://localhost:8529\")\n",
    "sys_db=client.db(\"_system\", username='root', password='client')\n"
   ]
  },
  {
   "cell_type": "code",
   "execution_count": 3,
   "id": "f78fe9bc",
   "metadata": {},
   "outputs": [],
   "source": [
    "if not sys_db.has_database(\"seminar2\"):\n",
    "    sys_db.create_database(\"seminar2\")\n",
    "    "
   ]
  },
  {
   "cell_type": "code",
   "execution_count": 4,
   "id": "42f30279",
   "metadata": {},
   "outputs": [],
   "source": [
    "db=client.db('seminar2', username=\"root\", password='client')\n",
    "graph=db.graph(\"makerspace\")"
   ]
  },
  {
   "cell_type": "code",
   "execution_count": 10,
   "id": "1484b539",
   "metadata": {},
   "outputs": [],
   "source": [
    "waage_df = pd.read_csv(\"waage_df.csv\", index_col=0)\n",
    "umgebung_df = pd.read_csv(\"umgebung_df.csv\", index_col=0)\n",
    "cpl_df = pd.read_csv(\"thermo_couple_heiz_df.csv\", index_col=0)\n"
   ]
  },
  {
   "cell_type": "code",
   "execution_count": 11,
   "id": "b0b626a1",
   "metadata": {},
   "outputs": [
    {
     "data": {
      "text/html": [
       "<div>\n",
       "<style scoped>\n",
       "    .dataframe tbody tr th:only-of-type {\n",
       "        vertical-align: middle;\n",
       "    }\n",
       "\n",
       "    .dataframe tbody tr th {\n",
       "        vertical-align: top;\n",
       "    }\n",
       "\n",
       "    .dataframe thead th {\n",
       "        text-align: right;\n",
       "    }\n",
       "</style>\n",
       "<table border=\"1\" class=\"dataframe\">\n",
       "  <thead>\n",
       "    <tr style=\"text-align: right;\">\n",
       "      <th></th>\n",
       "      <th>uuid</th>\n",
       "      <th>timestamp_qual_start</th>\n",
       "      <th>qual_weight</th>\n",
       "    </tr>\n",
       "  </thead>\n",
       "  <tbody>\n",
       "    <tr>\n",
       "      <th>0</th>\n",
       "      <td>54f145d2-e871-4bb9-8f9f-ee72e2ced9cd</td>\n",
       "      <td>2022-01-27 09:16:21.688684</td>\n",
       "      <td>304.0</td>\n",
       "    </tr>\n",
       "    <tr>\n",
       "      <th>1</th>\n",
       "      <td>a3ec2e1f-fa73-4c7c-9b2b-76c11e607ded</td>\n",
       "      <td>2022-01-27 09:17:59.504191</td>\n",
       "      <td>304.0</td>\n",
       "    </tr>\n",
       "    <tr>\n",
       "      <th>2</th>\n",
       "      <td>3fad8ca6-c3f5-4646-8d13-4d12c23bce4b</td>\n",
       "      <td>2022-01-27 09:20:07.455048</td>\n",
       "      <td>417.0</td>\n",
       "    </tr>\n",
       "    <tr>\n",
       "      <th>3</th>\n",
       "      <td>c047f085-5295-487c-983b-822973db31d8</td>\n",
       "      <td>2022-01-27 09:21:44.876556</td>\n",
       "      <td>271.0</td>\n",
       "    </tr>\n",
       "    <tr>\n",
       "      <th>4</th>\n",
       "      <td>d635cbe2-f5dc-4bc2-af97-b7dfb4f52dbc</td>\n",
       "      <td>2022-01-27 09:23:22.772306</td>\n",
       "      <td>536.0</td>\n",
       "    </tr>\n",
       "  </tbody>\n",
       "</table>\n",
       "</div>"
      ],
      "text/plain": [
       "                                   uuid        timestamp_qual_start  \\\n",
       "0  54f145d2-e871-4bb9-8f9f-ee72e2ced9cd  2022-01-27 09:16:21.688684   \n",
       "1  a3ec2e1f-fa73-4c7c-9b2b-76c11e607ded  2022-01-27 09:17:59.504191   \n",
       "2  3fad8ca6-c3f5-4646-8d13-4d12c23bce4b  2022-01-27 09:20:07.455048   \n",
       "3  c047f085-5295-487c-983b-822973db31d8  2022-01-27 09:21:44.876556   \n",
       "4  d635cbe2-f5dc-4bc2-af97-b7dfb4f52dbc  2022-01-27 09:23:22.772306   \n",
       "\n",
       "   qual_weight  \n",
       "0        304.0  \n",
       "1        304.0  \n",
       "2        417.0  \n",
       "3        271.0  \n",
       "4        536.0  "
      ]
     },
     "execution_count": 11,
     "metadata": {},
     "output_type": "execute_result"
    }
   ],
   "source": [
    "waage_df.head()\n"
   ]
  },
  {
   "cell_type": "code",
   "execution_count": null,
   "id": "cebd0a6f",
   "metadata": {},
   "outputs": [],
   "source": []
  }
 ],
 "metadata": {
  "kernelspec": {
   "display_name": "Python 3 (ipykernel)",
   "language": "python",
   "name": "python3"
  },
  "language_info": {
   "codemirror_mode": {
    "name": "ipython",
    "version": 3
   },
   "file_extension": ".py",
   "mimetype": "text/x-python",
   "name": "python",
   "nbconvert_exporter": "python",
   "pygments_lexer": "ipython3",
   "version": "3.9.12"
  }
 },
 "nbformat": 4,
 "nbformat_minor": 5
}
